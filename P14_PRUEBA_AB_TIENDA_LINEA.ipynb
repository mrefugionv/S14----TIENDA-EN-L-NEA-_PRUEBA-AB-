{
  "cells": [
    {
      "cell_type": "markdown",
      "metadata": {
        "id": "view-in-github",
        "colab_type": "text"
      },
      "source": [
        "<a href=\"https://colab.research.google.com/github/mrefugionv/S14----TIENDA-EN-L-NEA-_PRUEBA-AB-/blob/main/P14_PRUEBA_AB_TIENDA_LINEA.ipynb\" target=\"_parent\"><img src=\"https://colab.research.google.com/assets/colab-badge.svg\" alt=\"Open In Colab\"/></a>"
      ]
    },
    {
      "cell_type": "markdown",
      "metadata": {
        "id": "yXU73OcOW9E3"
      },
      "source": [
        "# Proyecto de Pruebas A/B\n",
        "María del Refugio Noriega Vargas"
      ]
    },
    {
      "cell_type": "markdown",
      "metadata": {
        "id": "nsvuEzK8W9E5"
      },
      "source": [
        "## Descripción técnica"
      ]
    },
    {
      "cell_type": "markdown",
      "metadata": {
        "id": "nvomnhaOW9E6"
      },
      "source": [
        "* Nombre de la prueba: recommender_system_test\n",
        "* Grupos: А (control), B (nuevo embudo de pago)\n",
        "* Fecha de lanzamiento: 2020-12-07\n",
        "* Fecha en la que dejaron de aceptar nuevos usuarios: 2020-12-21\n",
        "* Fecha de finalización: 2021-01-01\n",
        "* Audiencia: 15% de los nuevos usuarios de la región de la UE\n",
        "* Propósito de la prueba: probar cambios relacionados con la introducción de un sistema de recomendaciones mejorado\n",
        "* Resultado esperado: dentro de los 14 días posteriores a la inscripción, los usuarios mostrarán una mejor conversión en vistas de la página del producto (el `evento product_page`), instancias de agregar artículos al carrito de compras (`product_cart`) y compras (`purchase`). En cada etapa del embudo `product_page` → `product_cart` → `purchase`, habrá al menos un 10% de aumento.\n",
        "* Número previsto de participantes de la prueba: 6 000"
      ]
    },
    {
      "cell_type": "markdown",
      "metadata": {
        "id": "HvDA8NGGW9E7"
      },
      "source": [
        "## Preparación de los datos"
      ]
    },
    {
      "cell_type": "markdown",
      "metadata": {
        "id": "LIHWM-SkW9E7"
      },
      "source": [
        "### Importación de las librerías"
      ]
    },
    {
      "cell_type": "code",
      "execution_count": null,
      "metadata": {
        "id": "Hg9OPSLRW9E7"
      },
      "outputs": [],
      "source": [
        "import pandas as pd            # Manejo de dataframes\n",
        "import datetime as dt          # Manejo de fechas\n",
        "import matplotlib.pyplot as plt  # Graficar\n",
        "import numpy as np              # Matrices\n",
        "import seaborn as sns              # Gráfico caja- bigotes\n",
        "import scipy.stats as stats         # Métodos estadísticos"
      ]
    },
    {
      "cell_type": "markdown",
      "metadata": {
        "id": "FvuNbP9RW9E8"
      },
      "source": [
        "### Importación de los datos\n",
        "\n",
        "Tenemos 4 datasets:\n",
        "- `calendar` - El calendario de eventos de marketing para 2020.\n",
        "- `new_users` -  Los usuarios que se registraron en la tienda en línea desde el 7 hasta el 21 de diciembre de 2020.\n",
        "- `events` - Los eventos de los nuevos usuarios en el período comprendido entre el 7 de diciembre de 2020 y el 1 de enero de 2021.\n",
        "- `data` - Tabla con los datos de los participantes de la prueba."
      ]
    },
    {
      "cell_type": "code",
      "execution_count": null,
      "metadata": {
        "id": "zwRyZzlXW9E9"
      },
      "outputs": [],
      "source": [
        "calendar = pd.read_csv('datasets/ab_project_marketing_events_us.csv')\n",
        "new_users = pd.read_csv('datasets/final_ab_new_users_upd_us.csv')\n",
        "events = pd.read_csv('datasets/final_ab_events_upd_us.csv')\n",
        "data = pd.read_csv('datasets/final_ab_participants_upd_us.csv')"
      ]
    },
    {
      "cell_type": "markdown",
      "metadata": {
        "id": "xUpEzPXTW9E9"
      },
      "source": [
        "## Preprocesamiento de los datos\n"
      ]
    },
    {
      "cell_type": "markdown",
      "metadata": {
        "id": "lBiBEyYIW9E9"
      },
      "source": [
        " ### Tipos de datos, formato de columnas, manejo de valores auscentes y duplicados"
      ]
    },
    {
      "cell_type": "code",
      "execution_count": null,
      "metadata": {
        "id": "e2xxoClOW9E-"
      },
      "outputs": [],
      "source": [
        "\n",
        "def col_name_snakecase(data):\n",
        "    \"\"\"\n",
        "    Función que toma un dataframe y\n",
        "    transforma el nombre de sus columnas a snake_case\n",
        "    \"\"\"\n",
        "    new_col_names =[]\n",
        "\n",
        "    for old_name in data.columns:\n",
        "        name_stripped = old_name.strip()\n",
        "        name_lowered = name_stripped.lower()\n",
        "        name_no_spaces = name_lowered.replace(' ','_')\n",
        "        new_col_names.append(name_no_spaces)\n",
        "\n",
        "    data.columns = new_col_names\n",
        "    return(data)"
      ]
    },
    {
      "cell_type": "markdown",
      "metadata": {
        "id": "uUqH8FkoW9E-"
      },
      "source": [
        "#### DF Calendar\n",
        "\n",
        "El dataframe `calendar` contiene el calendario de eventos de marketing, son 14 filas sin valores auscentes ni duplicados. Los campos describen:\n",
        "- `name`: el nombre del evento de marketing, tipo de dato objeto.\n",
        "-  `regions` : regiones donde se llevara a cabo la campaña, tipo de dato objeto.\n",
        "-  `start_dt` : fecha de inicio de la campaña , tipo de dato datetime.\n",
        "-  `finist_dt` : fecha de finalización de la campaña, tipo de dato datetime.\n"
      ]
    },
    {
      "cell_type": "code",
      "execution_count": null,
      "metadata": {
        "id": "pOlqpodEW9E-",
        "outputId": "558d575c-4aac-4e00-ef3e-baedbb8e4bfe"
      },
      "outputs": [
        {
          "data": {
            "text/html": [
              "<div>\n",
              "<style scoped>\n",
              "    .dataframe tbody tr th:only-of-type {\n",
              "        vertical-align: middle;\n",
              "    }\n",
              "\n",
              "    .dataframe tbody tr th {\n",
              "        vertical-align: top;\n",
              "    }\n",
              "\n",
              "    .dataframe thead th {\n",
              "        text-align: right;\n",
              "    }\n",
              "</style>\n",
              "<table border=\"1\" class=\"dataframe\">\n",
              "  <thead>\n",
              "    <tr style=\"text-align: right;\">\n",
              "      <th></th>\n",
              "      <th>name</th>\n",
              "      <th>regions</th>\n",
              "      <th>start_dt</th>\n",
              "      <th>finish_dt</th>\n",
              "    </tr>\n",
              "  </thead>\n",
              "  <tbody>\n",
              "    <tr>\n",
              "      <th>0</th>\n",
              "      <td>Christmas&amp;New Year Promo</td>\n",
              "      <td>EU, N.America</td>\n",
              "      <td>2020-12-25</td>\n",
              "      <td>2021-01-03</td>\n",
              "    </tr>\n",
              "    <tr>\n",
              "      <th>1</th>\n",
              "      <td>St. Valentine's Day Giveaway</td>\n",
              "      <td>EU, CIS, APAC, N.America</td>\n",
              "      <td>2020-02-14</td>\n",
              "      <td>2020-02-16</td>\n",
              "    </tr>\n",
              "    <tr>\n",
              "      <th>2</th>\n",
              "      <td>St. Patric's Day Promo</td>\n",
              "      <td>EU, N.America</td>\n",
              "      <td>2020-03-17</td>\n",
              "      <td>2020-03-19</td>\n",
              "    </tr>\n",
              "    <tr>\n",
              "      <th>3</th>\n",
              "      <td>Easter Promo</td>\n",
              "      <td>EU, CIS, APAC, N.America</td>\n",
              "      <td>2020-04-12</td>\n",
              "      <td>2020-04-19</td>\n",
              "    </tr>\n",
              "    <tr>\n",
              "      <th>4</th>\n",
              "      <td>4th of July Promo</td>\n",
              "      <td>N.America</td>\n",
              "      <td>2020-07-04</td>\n",
              "      <td>2020-07-11</td>\n",
              "    </tr>\n",
              "  </tbody>\n",
              "</table>\n",
              "</div>"
            ],
            "text/plain": [
              "                           name                   regions    start_dt  \\\n",
              "0      Christmas&New Year Promo             EU, N.America  2020-12-25   \n",
              "1  St. Valentine's Day Giveaway  EU, CIS, APAC, N.America  2020-02-14   \n",
              "2        St. Patric's Day Promo             EU, N.America  2020-03-17   \n",
              "3                  Easter Promo  EU, CIS, APAC, N.America  2020-04-12   \n",
              "4             4th of July Promo                 N.America  2020-07-04   \n",
              "\n",
              "    finish_dt  \n",
              "0  2021-01-03  \n",
              "1  2020-02-16  \n",
              "2  2020-03-19  \n",
              "3  2020-04-19  \n",
              "4  2020-07-11  "
            ]
          },
          "metadata": {},
          "output_type": "display_data"
        }
      ],
      "source": [
        "display(calendar.head())"
      ]
    },
    {
      "cell_type": "code",
      "execution_count": null,
      "metadata": {
        "id": "bp2CqssaW9E_",
        "outputId": "7996338e-5991-429d-f53d-c80574ec6d39"
      },
      "outputs": [
        {
          "name": "stdout",
          "output_type": "stream",
          "text": [
            "<class 'pandas.core.frame.DataFrame'>\n",
            "RangeIndex: 14 entries, 0 to 13\n",
            "Data columns (total 4 columns):\n",
            " #   Column     Non-Null Count  Dtype         \n",
            "---  ------     --------------  -----         \n",
            " 0   name       14 non-null     object        \n",
            " 1   regions    14 non-null     object        \n",
            " 2   start_dt   14 non-null     datetime64[ns]\n",
            " 3   finish_dt  14 non-null     datetime64[ns]\n",
            "dtypes: datetime64[ns](2), object(2)\n",
            "memory usage: 580.0+ bytes\n",
            "None\n"
          ]
        }
      ],
      "source": [
        "#Corrección de tipos de datos\n",
        "calendar['start_dt']= calendar['start_dt'].astype('string')\n",
        "calendar['finish_dt']= calendar['finish_dt'].astype('string')\n",
        "calendar['start_dt'] = calendar['start_dt'].map( lambda x: dt.datetime.strptime(x, '%Y-%m-%d'))\n",
        "calendar['finish_dt'] = calendar['finish_dt'].map( lambda x: dt.datetime.strptime(x, '%Y-%m-%d'))\n",
        "print(calendar.info())"
      ]
    },
    {
      "cell_type": "code",
      "execution_count": null,
      "metadata": {
        "id": "3jPiX4jDW9E_",
        "outputId": "858810e9-8a11-4edf-89b8-31e2cfab5c4f"
      },
      "outputs": [
        {
          "data": {
            "text/html": [
              "<div>\n",
              "<style scoped>\n",
              "    .dataframe tbody tr th:only-of-type {\n",
              "        vertical-align: middle;\n",
              "    }\n",
              "\n",
              "    .dataframe tbody tr th {\n",
              "        vertical-align: top;\n",
              "    }\n",
              "\n",
              "    .dataframe thead th {\n",
              "        text-align: right;\n",
              "    }\n",
              "</style>\n",
              "<table border=\"1\" class=\"dataframe\">\n",
              "  <thead>\n",
              "    <tr style=\"text-align: right;\">\n",
              "      <th></th>\n",
              "      <th>name</th>\n",
              "      <th>regions</th>\n",
              "      <th>start_dt</th>\n",
              "      <th>finish_dt</th>\n",
              "    </tr>\n",
              "  </thead>\n",
              "  <tbody>\n",
              "  </tbody>\n",
              "</table>\n",
              "</div>"
            ],
            "text/plain": [
              "Empty DataFrame\n",
              "Columns: [name, regions, start_dt, finish_dt]\n",
              "Index: []"
            ]
          },
          "execution_count": 37,
          "metadata": {},
          "output_type": "execute_result"
        }
      ],
      "source": [
        "##¿Hay filas duplicadas?\n",
        "calendar[calendar.duplicated(keep=False)]"
      ]
    },
    {
      "cell_type": "markdown",
      "metadata": {
        "id": "4yWFOiDRW9E_"
      },
      "source": [
        "#### DF New Users\n",
        "\n",
        "El dataframe `new_users` contiene todos los usuarios que se registraron en la tienda en línea desde el 7 hasta el 21 de diciembre de 2020, son 58703 filas sin valores auscentes ni duplicados. Los campos describen:\n",
        "- `user_id`: identificador del usuario, tipo de dato objeto.\n",
        "-  `fist_date` : fecha de inscripción , tipo de dato datetime.\n",
        "-  `region` : región donde se llevara a cabo el registro, tipo de dato objeto.\n",
        "-  `device` : tipo de dispositivo utilizado para la inscripción, tipo de dato object.\n",
        "\n",
        "Se obtiene el dataframe de los usuraios nuevo solo de EU, ya que a ellos es a quienes se le aplicó la prueba. \"Audiencia: 15% de los nuevos usuarios de la región de la UE\""
      ]
    },
    {
      "cell_type": "code",
      "execution_count": null,
      "metadata": {
        "id": "JOqb1TcHW9E_",
        "outputId": "c0e5412c-d0c4-496c-feef-f5b4f5d91dc2"
      },
      "outputs": [
        {
          "data": {
            "text/html": [
              "<div>\n",
              "<style scoped>\n",
              "    .dataframe tbody tr th:only-of-type {\n",
              "        vertical-align: middle;\n",
              "    }\n",
              "\n",
              "    .dataframe tbody tr th {\n",
              "        vertical-align: top;\n",
              "    }\n",
              "\n",
              "    .dataframe thead th {\n",
              "        text-align: right;\n",
              "    }\n",
              "</style>\n",
              "<table border=\"1\" class=\"dataframe\">\n",
              "  <thead>\n",
              "    <tr style=\"text-align: right;\">\n",
              "      <th></th>\n",
              "      <th>user_id</th>\n",
              "      <th>first_date</th>\n",
              "      <th>region</th>\n",
              "      <th>device</th>\n",
              "    </tr>\n",
              "  </thead>\n",
              "  <tbody>\n",
              "    <tr>\n",
              "      <th>0</th>\n",
              "      <td>D72A72121175D8BE</td>\n",
              "      <td>2020-12-07</td>\n",
              "      <td>EU</td>\n",
              "      <td>PC</td>\n",
              "    </tr>\n",
              "    <tr>\n",
              "      <th>1</th>\n",
              "      <td>F1C668619DFE6E65</td>\n",
              "      <td>2020-12-07</td>\n",
              "      <td>N.America</td>\n",
              "      <td>Android</td>\n",
              "    </tr>\n",
              "    <tr>\n",
              "      <th>2</th>\n",
              "      <td>2E1BF1D4C37EA01F</td>\n",
              "      <td>2020-12-07</td>\n",
              "      <td>EU</td>\n",
              "      <td>PC</td>\n",
              "    </tr>\n",
              "    <tr>\n",
              "      <th>3</th>\n",
              "      <td>50734A22C0C63768</td>\n",
              "      <td>2020-12-07</td>\n",
              "      <td>EU</td>\n",
              "      <td>iPhone</td>\n",
              "    </tr>\n",
              "    <tr>\n",
              "      <th>4</th>\n",
              "      <td>E1BDDCE0DAFA2679</td>\n",
              "      <td>2020-12-07</td>\n",
              "      <td>N.America</td>\n",
              "      <td>iPhone</td>\n",
              "    </tr>\n",
              "  </tbody>\n",
              "</table>\n",
              "</div>"
            ],
            "text/plain": [
              "            user_id  first_date     region   device\n",
              "0  D72A72121175D8BE  2020-12-07         EU       PC\n",
              "1  F1C668619DFE6E65  2020-12-07  N.America  Android\n",
              "2  2E1BF1D4C37EA01F  2020-12-07         EU       PC\n",
              "3  50734A22C0C63768  2020-12-07         EU   iPhone\n",
              "4  E1BDDCE0DAFA2679  2020-12-07  N.America   iPhone"
            ]
          },
          "metadata": {},
          "output_type": "display_data"
        }
      ],
      "source": [
        "display(new_users.head())"
      ]
    },
    {
      "cell_type": "code",
      "execution_count": null,
      "metadata": {
        "id": "4ylhzzpVW9E_",
        "outputId": "b3ca8c13-8997-4fe6-a894-bc957caa5425"
      },
      "outputs": [
        {
          "name": "stdout",
          "output_type": "stream",
          "text": [
            "<class 'pandas.core.frame.DataFrame'>\n",
            "RangeIndex: 58703 entries, 0 to 58702\n",
            "Data columns (total 4 columns):\n",
            " #   Column      Non-Null Count  Dtype         \n",
            "---  ------      --------------  -----         \n",
            " 0   user_id     58703 non-null  object        \n",
            " 1   first_date  58703 non-null  datetime64[ns]\n",
            " 2   region      58703 non-null  object        \n",
            " 3   device      58703 non-null  object        \n",
            "dtypes: datetime64[ns](1), object(3)\n",
            "memory usage: 1.8+ MB\n",
            "None\n"
          ]
        }
      ],
      "source": [
        "#Correción de tipos de datos\n",
        "new_users['first_date']=new_users['first_date'].astype('string')\n",
        "new_users['first_date']=new_users['first_date'].map(lambda x: dt.datetime.strptime(x, '%Y-%m-%d'))\n",
        "print(new_users.info())"
      ]
    },
    {
      "cell_type": "code",
      "execution_count": null,
      "metadata": {
        "id": "ECSmXRlLW9FA",
        "outputId": "b90f48bf-8650-4041-a8c0-041ed4317d83"
      },
      "outputs": [
        {
          "data": {
            "text/html": [
              "<div>\n",
              "<style scoped>\n",
              "    .dataframe tbody tr th:only-of-type {\n",
              "        vertical-align: middle;\n",
              "    }\n",
              "\n",
              "    .dataframe tbody tr th {\n",
              "        vertical-align: top;\n",
              "    }\n",
              "\n",
              "    .dataframe thead th {\n",
              "        text-align: right;\n",
              "    }\n",
              "</style>\n",
              "<table border=\"1\" class=\"dataframe\">\n",
              "  <thead>\n",
              "    <tr style=\"text-align: right;\">\n",
              "      <th></th>\n",
              "      <th>user_id</th>\n",
              "      <th>first_date</th>\n",
              "      <th>region</th>\n",
              "      <th>device</th>\n",
              "    </tr>\n",
              "  </thead>\n",
              "  <tbody>\n",
              "  </tbody>\n",
              "</table>\n",
              "</div>"
            ],
            "text/plain": [
              "Empty DataFrame\n",
              "Columns: [user_id, first_date, region, device]\n",
              "Index: []"
            ]
          },
          "execution_count": 40,
          "metadata": {},
          "output_type": "execute_result"
        }
      ],
      "source": [
        "# ¿Hay filas duplicadas?\n",
        "new_users[new_users.duplicated(keep=False)]"
      ]
    },
    {
      "cell_type": "code",
      "execution_count": null,
      "metadata": {
        "id": "p3skgDtMW9FA",
        "outputId": "c8040668-28f5-4f19-b779-555f7d6ce48b"
      },
      "outputs": [
        {
          "name": "stdout",
          "output_type": "stream",
          "text": [
            "<class 'pandas.core.frame.DataFrame'>\n",
            "Index: 43396 entries, 0 to 58702\n",
            "Data columns (total 4 columns):\n",
            " #   Column      Non-Null Count  Dtype         \n",
            "---  ------      --------------  -----         \n",
            " 0   user_id     43396 non-null  object        \n",
            " 1   first_date  43396 non-null  datetime64[ns]\n",
            " 2   region      43396 non-null  object        \n",
            " 3   device      43396 non-null  object        \n",
            "dtypes: datetime64[ns](1), object(3)\n",
            "memory usage: 1.7+ MB\n",
            "None\n"
          ]
        }
      ],
      "source": [
        "new_users_eu = new_users[new_users['region'] == 'EU']\n",
        "print(new_users_eu.info())"
      ]
    },
    {
      "cell_type": "markdown",
      "metadata": {
        "id": "aRITOKuOW9FA"
      },
      "source": [
        "#### DF Events\n",
        "\n",
        "El dataframe `events` contiene todos los eventos de los nuevos usuarios en el período comprendido entre el 7 de diciembre de 2020 y el 1 de enero de 2021, son 423761 entrada sin valores duplicados. Los campos describen:\n",
        "- `user_id`: identificador del usuario, tipo de dato objeto.\n",
        "-  `event_dt` : fecha y hora del evento , tipo de dato datetime.\n",
        "-  `event_name` : nombre del tio de event, tipo de dato objeto.\n",
        "-  `details` : datos adicionales sobre el evento, tipo de dato flotante.\n",
        "\n",
        "En cuanto a valores ausentes, en la columna `details` solo hay 60314 campos completos. Eso se debe a que representan los detalles del tipo de evento registrado; hay cuatro tipos de evento : `purchase` ,`product_cart`, `product_page`,`login`; y el único de que se tienen detalles es `purchase`, con el monto de la compra (USD). Por lo que se decide rellenaar esos valores aucentes con un valor mucho mayor a los valores contenidoes en esa columna, para que se puedan diferenciar al procesarlos."
      ]
    },
    {
      "cell_type": "code",
      "execution_count": null,
      "metadata": {
        "id": "g4n8nkWNW9FA",
        "outputId": "bfa6e2b8-e860-493b-966d-1fd189a6e950"
      },
      "outputs": [
        {
          "data": {
            "text/html": [
              "<div>\n",
              "<style scoped>\n",
              "    .dataframe tbody tr th:only-of-type {\n",
              "        vertical-align: middle;\n",
              "    }\n",
              "\n",
              "    .dataframe tbody tr th {\n",
              "        vertical-align: top;\n",
              "    }\n",
              "\n",
              "    .dataframe thead th {\n",
              "        text-align: right;\n",
              "    }\n",
              "</style>\n",
              "<table border=\"1\" class=\"dataframe\">\n",
              "  <thead>\n",
              "    <tr style=\"text-align: right;\">\n",
              "      <th></th>\n",
              "      <th>user_id</th>\n",
              "      <th>event_dt</th>\n",
              "      <th>event_name</th>\n",
              "      <th>details</th>\n",
              "    </tr>\n",
              "  </thead>\n",
              "  <tbody>\n",
              "    <tr>\n",
              "      <th>360553</th>\n",
              "      <td>5550F454694429EF</td>\n",
              "      <td>2020-12-21 04:37:36</td>\n",
              "      <td>login</td>\n",
              "      <td>NaN</td>\n",
              "    </tr>\n",
              "    <tr>\n",
              "      <th>39456</th>\n",
              "      <td>B44A5B768770CE72</td>\n",
              "      <td>2020-12-21 12:55:18</td>\n",
              "      <td>purchase</td>\n",
              "      <td>4.99</td>\n",
              "    </tr>\n",
              "    <tr>\n",
              "      <th>219407</th>\n",
              "      <td>97A3B2B75AE4B149</td>\n",
              "      <td>2020-12-23 12:54:53</td>\n",
              "      <td>product_page</td>\n",
              "      <td>NaN</td>\n",
              "    </tr>\n",
              "    <tr>\n",
              "      <th>125513</th>\n",
              "      <td>0434D0498B5592FB</td>\n",
              "      <td>2020-12-08 11:31:26</td>\n",
              "      <td>product_page</td>\n",
              "      <td>NaN</td>\n",
              "    </tr>\n",
              "    <tr>\n",
              "      <th>347284</th>\n",
              "      <td>45E148F9010A66D3</td>\n",
              "      <td>2020-12-20 07:34:40</td>\n",
              "      <td>login</td>\n",
              "      <td>NaN</td>\n",
              "    </tr>\n",
              "  </tbody>\n",
              "</table>\n",
              "</div>"
            ],
            "text/plain": [
              "                 user_id             event_dt    event_name  details\n",
              "360553  5550F454694429EF  2020-12-21 04:37:36         login      NaN\n",
              "39456   B44A5B768770CE72  2020-12-21 12:55:18      purchase     4.99\n",
              "219407  97A3B2B75AE4B149  2020-12-23 12:54:53  product_page      NaN\n",
              "125513  0434D0498B5592FB  2020-12-08 11:31:26  product_page      NaN\n",
              "347284  45E148F9010A66D3  2020-12-20 07:34:40         login      NaN"
            ]
          },
          "metadata": {},
          "output_type": "display_data"
        }
      ],
      "source": [
        "display(events.sample(n=5, random_state=0))"
      ]
    },
    {
      "cell_type": "code",
      "execution_count": null,
      "metadata": {
        "id": "kR5EL3hnW9FA",
        "outputId": "179bb16c-35e2-4064-9ee0-08bb085a63de"
      },
      "outputs": [
        {
          "name": "stdout",
          "output_type": "stream",
          "text": [
            "<class 'pandas.core.frame.DataFrame'>\n",
            "RangeIndex: 423761 entries, 0 to 423760\n",
            "Data columns (total 4 columns):\n",
            " #   Column      Non-Null Count   Dtype         \n",
            "---  ------      --------------   -----         \n",
            " 0   user_id     423761 non-null  object        \n",
            " 1   event_dt    423761 non-null  datetime64[ns]\n",
            " 2   event_name  423761 non-null  object        \n",
            " 3   details     60314 non-null   float64       \n",
            "dtypes: datetime64[ns](1), float64(1), object(2)\n",
            "memory usage: 12.9+ MB\n"
          ]
        },
        {
          "data": {
            "text/plain": [
              "None"
            ]
          },
          "metadata": {},
          "output_type": "display_data"
        }
      ],
      "source": [
        "# Corrección de tipos de datos\n",
        "events['event_dt']=events['event_dt'].astype('string')\n",
        "events['event_dt'] = events['event_dt'].map(lambda x: dt.datetime.strptime(x, '%Y-%m-%d %H:%M:%S'))\n",
        "display(events.info())"
      ]
    },
    {
      "cell_type": "code",
      "execution_count": null,
      "metadata": {
        "id": "EbfTPWJqW9FB",
        "outputId": "254edbfe-6c5d-4176-a235-f1e5d0d9b0fa"
      },
      "outputs": [
        {
          "data": {
            "text/html": [
              "<div>\n",
              "<style scoped>\n",
              "    .dataframe tbody tr th:only-of-type {\n",
              "        vertical-align: middle;\n",
              "    }\n",
              "\n",
              "    .dataframe tbody tr th {\n",
              "        vertical-align: top;\n",
              "    }\n",
              "\n",
              "    .dataframe thead th {\n",
              "        text-align: right;\n",
              "    }\n",
              "</style>\n",
              "<table border=\"1\" class=\"dataframe\">\n",
              "  <thead>\n",
              "    <tr style=\"text-align: right;\">\n",
              "      <th></th>\n",
              "      <th>user_id</th>\n",
              "      <th>event_dt</th>\n",
              "      <th>event_name</th>\n",
              "      <th>details</th>\n",
              "    </tr>\n",
              "  </thead>\n",
              "  <tbody>\n",
              "  </tbody>\n",
              "</table>\n",
              "</div>"
            ],
            "text/plain": [
              "Empty DataFrame\n",
              "Columns: [user_id, event_dt, event_name, details]\n",
              "Index: []"
            ]
          },
          "execution_count": 44,
          "metadata": {},
          "output_type": "execute_result"
        }
      ],
      "source": [
        "#¿Hay filas duplicadas?\n",
        "events[events.duplicated(keep=False)]"
      ]
    },
    {
      "cell_type": "code",
      "execution_count": null,
      "metadata": {
        "id": "uzwGms3fW9FB",
        "outputId": "ec1f955a-6c2e-4ce8-9176-98e3a68652e9"
      },
      "outputs": [
        {
          "name": "stdout",
          "output_type": "stream",
          "text": [
            "Categorías de eventos:\n",
            " ['purchase' 'product_cart' 'product_page' 'login']\n",
            "\n",
            "Cantidad de evento 'purchase':\n",
            " user_id       60314\n",
            "event_dt      60314\n",
            "event_name    60314\n",
            "details       60314\n",
            "dtype: int64\n",
            "\n",
            "Valores únicos en details:\n",
            " [ 99.99   9.99   4.99 499.99    nan]\n",
            "Valor mínimo en details:\n",
            " 4.99\n",
            "Valor máximo en details:\n",
            " 499.99\n"
          ]
        }
      ],
      "source": [
        "#Exploración de motivos por las que hay valores ausentes en 'details'\n",
        "print(f'Categorías de eventos:\\n',events['event_name'].unique())\n",
        "print()\n",
        "print(f\"Cantidad de evento 'purchase':\\n\",events[events['event_name'] == 'purchase'].count())\n",
        "print()\n",
        "print(f'Valores únicos en details:\\n',events['details'].unique())\n",
        "print(f'Valor mínimo en details:\\n',events['details'].min())\n",
        "print(f'Valor máximo en details:\\n',events['details'].max())"
      ]
    },
    {
      "cell_type": "code",
      "execution_count": null,
      "metadata": {
        "id": "4QJOhUnvW9FB",
        "outputId": "ae2d0df9-58d2-40d2-8263-8af77f7ea4d8"
      },
      "outputs": [
        {
          "name": "stdout",
          "output_type": "stream",
          "text": [
            "<class 'pandas.core.frame.DataFrame'>\n",
            "RangeIndex: 423761 entries, 0 to 423760\n",
            "Data columns (total 4 columns):\n",
            " #   Column      Non-Null Count   Dtype         \n",
            "---  ------      --------------   -----         \n",
            " 0   user_id     423761 non-null  object        \n",
            " 1   event_dt    423761 non-null  datetime64[ns]\n",
            " 2   event_name  423761 non-null  object        \n",
            " 3   details     423761 non-null  float64       \n",
            "dtypes: datetime64[ns](1), float64(1), object(2)\n",
            "memory usage: 12.9+ MB\n",
            "None\n",
            "\n",
            "Valores únicos en event_name:\n",
            " ['purchase' 'product_cart' 'product_page' 'login']\n",
            "Valores únicos en details:\n",
            " [  99.99    9.99    4.99  499.99 1500.  ]\n"
          ]
        },
        {
          "name": "stderr",
          "output_type": "stream",
          "text": [
            "C:\\Users\\cucum\\AppData\\Local\\Temp\\ipykernel_3768\\232146942.py:3: FutureWarning: A value is trying to be set on a copy of a DataFrame or Series through chained assignment using an inplace method.\n",
            "The behavior will change in pandas 3.0. This inplace method will never work because the intermediate object on which we are setting values always behaves as a copy.\n",
            "\n",
            "For example, when doing 'df[col].method(value, inplace=True)', try using 'df.method({col: value}, inplace=True)' or df[col] = df[col].method(value) instead, to perform the operation inplace on the original object.\n",
            "\n",
            "\n",
            "  events['details'].fillna(1500 , inplace=True)\n"
          ]
        }
      ],
      "source": [
        "#Rellenamos valores ausentes\n",
        "\n",
        "events['details'].fillna(1500 , inplace=True)\n",
        "\n",
        "print(events.info())\n",
        "print()\n",
        "print(f'Valores únicos en event_name:\\n',events['event_name'].unique())\n",
        "print(f'Valores únicos en details:\\n',events['details'].unique())"
      ]
    },
    {
      "cell_type": "markdown",
      "metadata": {
        "id": "jCLRt9V6W9FB"
      },
      "source": [
        "#### DF Data\n",
        "\n",
        "\n",
        "El dataframe `data` contiene los datos de los participantes de la prueba, son 14525 filas sin valores auscentes ni duplicados. Los campos describen:\n",
        "- `user_id`: identificador del usuario, tipo de dato objeto.\n",
        "-  `ab_test` : nombre de la prueba , tipo de dato objeto, valores pueden ser: 'recommender_system_test' o 'interface_eu_test'.\n",
        "-  `group` : el grupo de prueba al que pertenecía el usuario, tipo de dato objeto: A/B.\n",
        "\n",
        "Como la prueba A/B que se estudiara es 'recommender_system_test', se filtra el data frame y solo obtenemos los 3675 registros de esta prueba, menos de los 6000 participantes de la prueba que se esperaba. 2747 usuarios son grupo A y 928 son grupo B."
      ]
    },
    {
      "cell_type": "code",
      "execution_count": null,
      "metadata": {
        "id": "ApXl6d7ZW9FB",
        "outputId": "ce70f30f-7dbf-436d-eeef-ccd49ffe63aa"
      },
      "outputs": [
        {
          "data": {
            "text/html": [
              "<div>\n",
              "<style scoped>\n",
              "    .dataframe tbody tr th:only-of-type {\n",
              "        vertical-align: middle;\n",
              "    }\n",
              "\n",
              "    .dataframe tbody tr th {\n",
              "        vertical-align: top;\n",
              "    }\n",
              "\n",
              "    .dataframe thead th {\n",
              "        text-align: right;\n",
              "    }\n",
              "</style>\n",
              "<table border=\"1\" class=\"dataframe\">\n",
              "  <thead>\n",
              "    <tr style=\"text-align: right;\">\n",
              "      <th></th>\n",
              "      <th>user_id</th>\n",
              "      <th>group</th>\n",
              "      <th>ab_test</th>\n",
              "    </tr>\n",
              "  </thead>\n",
              "  <tbody>\n",
              "    <tr>\n",
              "      <th>0</th>\n",
              "      <td>D1ABA3E2887B6A73</td>\n",
              "      <td>A</td>\n",
              "      <td>recommender_system_test</td>\n",
              "    </tr>\n",
              "    <tr>\n",
              "      <th>1</th>\n",
              "      <td>A7A3664BD6242119</td>\n",
              "      <td>A</td>\n",
              "      <td>recommender_system_test</td>\n",
              "    </tr>\n",
              "    <tr>\n",
              "      <th>2</th>\n",
              "      <td>DABC14FDDFADD29E</td>\n",
              "      <td>A</td>\n",
              "      <td>recommender_system_test</td>\n",
              "    </tr>\n",
              "    <tr>\n",
              "      <th>3</th>\n",
              "      <td>04988C5DF189632E</td>\n",
              "      <td>A</td>\n",
              "      <td>recommender_system_test</td>\n",
              "    </tr>\n",
              "    <tr>\n",
              "      <th>4</th>\n",
              "      <td>4FF2998A348C484F</td>\n",
              "      <td>A</td>\n",
              "      <td>recommender_system_test</td>\n",
              "    </tr>\n",
              "  </tbody>\n",
              "</table>\n",
              "</div>"
            ],
            "text/plain": [
              "            user_id group                  ab_test\n",
              "0  D1ABA3E2887B6A73     A  recommender_system_test\n",
              "1  A7A3664BD6242119     A  recommender_system_test\n",
              "2  DABC14FDDFADD29E     A  recommender_system_test\n",
              "3  04988C5DF189632E     A  recommender_system_test\n",
              "4  4FF2998A348C484F     A  recommender_system_test"
            ]
          },
          "metadata": {},
          "output_type": "display_data"
        }
      ],
      "source": [
        "display(data.head())"
      ]
    },
    {
      "cell_type": "code",
      "execution_count": null,
      "metadata": {
        "id": "OMCpfGaBW9FB",
        "outputId": "499bfe13-3ba5-4e8b-edb7-301dad6a26a3"
      },
      "outputs": [
        {
          "name": "stdout",
          "output_type": "stream",
          "text": [
            "<class 'pandas.core.frame.DataFrame'>\n",
            "RangeIndex: 14525 entries, 0 to 14524\n",
            "Data columns (total 3 columns):\n",
            " #   Column   Non-Null Count  Dtype \n",
            "---  ------   --------------  ----- \n",
            " 0   user_id  14525 non-null  object\n",
            " 1   group    14525 non-null  object\n",
            " 2   ab_test  14525 non-null  object\n",
            "dtypes: object(3)\n",
            "memory usage: 340.6+ KB\n",
            "None\n"
          ]
        }
      ],
      "source": [
        "print(data.info())"
      ]
    },
    {
      "cell_type": "code",
      "execution_count": null,
      "metadata": {
        "id": "jccwPbawW9FC",
        "outputId": "c02c5130-d094-4a80-ea90-c31261d1a607"
      },
      "outputs": [
        {
          "data": {
            "text/html": [
              "<div>\n",
              "<style scoped>\n",
              "    .dataframe tbody tr th:only-of-type {\n",
              "        vertical-align: middle;\n",
              "    }\n",
              "\n",
              "    .dataframe tbody tr th {\n",
              "        vertical-align: top;\n",
              "    }\n",
              "\n",
              "    .dataframe thead th {\n",
              "        text-align: right;\n",
              "    }\n",
              "</style>\n",
              "<table border=\"1\" class=\"dataframe\">\n",
              "  <thead>\n",
              "    <tr style=\"text-align: right;\">\n",
              "      <th></th>\n",
              "      <th>user_id</th>\n",
              "      <th>group</th>\n",
              "      <th>ab_test</th>\n",
              "    </tr>\n",
              "  </thead>\n",
              "  <tbody>\n",
              "  </tbody>\n",
              "</table>\n",
              "</div>"
            ],
            "text/plain": [
              "Empty DataFrame\n",
              "Columns: [user_id, group, ab_test]\n",
              "Index: []"
            ]
          },
          "execution_count": 49,
          "metadata": {},
          "output_type": "execute_result"
        }
      ],
      "source": [
        "#¿Hay datos duplicados?\n",
        "data[data.duplicated(keep=False)]"
      ]
    },
    {
      "cell_type": "code",
      "execution_count": null,
      "metadata": {
        "id": "87lcmgxoW9FC",
        "outputId": "7aeea836-4d00-42b2-a8ed-7077dbc68e9f"
      },
      "outputs": [
        {
          "name": "stdout",
          "output_type": "stream",
          "text": [
            "Valores únicos para 'ab_test':\n",
            " ['recommender_system_test' 'interface_eu_test']\n",
            "\n",
            "Valores únicos para 'group':\n",
            " ['A' 'B']\n"
          ]
        }
      ],
      "source": [
        "print(f\"Valores únicos para 'ab_test':\\n\", data['ab_test'].unique())\n",
        "print()\n",
        "print(f\"Valores únicos para 'group':\\n\", data['group'].unique())"
      ]
    },
    {
      "cell_type": "code",
      "execution_count": null,
      "metadata": {
        "id": "AlT2FLP-W9FC",
        "outputId": "fa51382b-0313-4897-bdf1-a9844816ef28"
      },
      "outputs": [
        {
          "name": "stdout",
          "output_type": "stream",
          "text": [
            "<class 'pandas.core.frame.DataFrame'>\n",
            "Index: 3675 entries, 0 to 3674\n",
            "Data columns (total 3 columns):\n",
            " #   Column   Non-Null Count  Dtype \n",
            "---  ------   --------------  ----- \n",
            " 0   user_id  3675 non-null   object\n",
            " 1   group    3675 non-null   object\n",
            " 2   ab_test  3675 non-null   object\n",
            "dtypes: object(3)\n",
            "memory usage: 114.8+ KB\n",
            "None\n"
          ]
        }
      ],
      "source": [
        "# Solo se revisaran los datos de la prueba 'recommender_system_test'\n",
        "data = data[data['ab_test']=='recommender_system_test']\n",
        "\n",
        "\n",
        "print(data.info())"
      ]
    },
    {
      "cell_type": "markdown",
      "metadata": {
        "id": "TPzSAjkvW9FC"
      },
      "source": [
        "## Análisis Exploratorio de Datos"
      ]
    },
    {
      "cell_type": "markdown",
      "metadata": {
        "id": "7ywWRYeOW9FC"
      },
      "source": [
        "### ¿Hay usuarios que están presentes en ambas muestras?\n",
        "\n",
        "No hay usuario repetidos en los grupos"
      ]
    },
    {
      "cell_type": "code",
      "execution_count": null,
      "metadata": {
        "id": "ILDX_kLnW9FD",
        "outputId": "d3e8dc8a-27ed-4fc8-89a6-3c642b80ed27"
      },
      "outputs": [
        {
          "name": "stdout",
          "output_type": "stream",
          "text": [
            "<class 'pandas.core.frame.DataFrame'>\n",
            "RangeIndex: 0 entries\n",
            "Data columns (total 5 columns):\n",
            " #   Column     Non-Null Count  Dtype \n",
            "---  ------     --------------  ----- \n",
            " 0   user_id    0 non-null      object\n",
            " 1   group_a    0 non-null      object\n",
            " 2   ab_test_a  0 non-null      object\n",
            " 3   group_b    0 non-null      object\n",
            " 4   ab_test_b  0 non-null      object\n",
            "dtypes: object(5)\n",
            "memory usage: 132.0+ bytes\n",
            "None\n"
          ]
        }
      ],
      "source": [
        "# Dataframes de grupo A y B\n",
        "data_A = data[data['group']=='A']\n",
        "data_B = data[data['group']=='B']\n",
        "# Unimos en user_id para verificar que no este el mismo usuario en ambos grupos\n",
        "data_both = data_A.merge(data_B, how='inner', on='user_id',suffixes=('_a', '_b'))\n",
        "print(data_both.info())"
      ]
    },
    {
      "cell_type": "markdown",
      "metadata": {
        "id": "tn5y-nv3W9FD"
      },
      "source": [
        "### ¿El número de eventos por usuario está distribuido equitativamente entre las muestras?\n",
        "\n",
        "- Para el grupo **A** tenemos **2727 usuarios** con un total de **18,627 eventos**.\n",
        "- Para el grupo **B** tenemos **928 usuarios** con un total de **5,282 eventos**.\n",
        "\n",
        "El grupo A representa un 74.61% de los usuarios en prueba y el B el 25.38%\n",
        "Para el grupo A hay en promedio 6.8 eventos registrados por usuario y en el grupo B son 5.69 eventos por usuario en promedio."
      ]
    },
    {
      "cell_type": "code",
      "execution_count": null,
      "metadata": {
        "id": "XDsWRmUrW9FG",
        "outputId": "e579df17-42c6-467f-d460-9f9c894a4ebd"
      },
      "outputs": [
        {
          "data": {
            "text/html": [
              "<div>\n",
              "<style scoped>\n",
              "    .dataframe tbody tr th:only-of-type {\n",
              "        vertical-align: middle;\n",
              "    }\n",
              "\n",
              "    .dataframe tbody tr th {\n",
              "        vertical-align: top;\n",
              "    }\n",
              "\n",
              "    .dataframe thead th {\n",
              "        text-align: right;\n",
              "    }\n",
              "</style>\n",
              "<table border=\"1\" class=\"dataframe\">\n",
              "  <thead>\n",
              "    <tr style=\"text-align: right;\">\n",
              "      <th></th>\n",
              "      <th>user_id</th>\n",
              "      <th>event_dt</th>\n",
              "      <th>event_name</th>\n",
              "      <th>details</th>\n",
              "      <th>group_events</th>\n",
              "      <th>ab_test_events</th>\n",
              "      <th>first_date</th>\n",
              "      <th>region</th>\n",
              "      <th>device</th>\n",
              "      <th>group_new_users</th>\n",
              "      <th>ab_test_new_users</th>\n",
              "    </tr>\n",
              "  </thead>\n",
              "  <tbody>\n",
              "    <tr>\n",
              "      <th>0</th>\n",
              "      <td>D1ABA3E2887B6A73</td>\n",
              "      <td>2020-12-07 14:43:27</td>\n",
              "      <td>purchase</td>\n",
              "      <td>99.99</td>\n",
              "      <td>A</td>\n",
              "      <td>recommender_system_test</td>\n",
              "      <td>2020-12-07</td>\n",
              "      <td>EU</td>\n",
              "      <td>PC</td>\n",
              "      <td>A</td>\n",
              "      <td>recommender_system_test</td>\n",
              "    </tr>\n",
              "    <tr>\n",
              "      <th>1</th>\n",
              "      <td>D1ABA3E2887B6A73</td>\n",
              "      <td>2020-12-07 14:43:29</td>\n",
              "      <td>product_cart</td>\n",
              "      <td>1500.00</td>\n",
              "      <td>A</td>\n",
              "      <td>recommender_system_test</td>\n",
              "      <td>2020-12-07</td>\n",
              "      <td>EU</td>\n",
              "      <td>PC</td>\n",
              "      <td>A</td>\n",
              "      <td>recommender_system_test</td>\n",
              "    </tr>\n",
              "    <tr>\n",
              "      <th>2</th>\n",
              "      <td>D1ABA3E2887B6A73</td>\n",
              "      <td>2020-12-07 14:43:27</td>\n",
              "      <td>product_page</td>\n",
              "      <td>1500.00</td>\n",
              "      <td>A</td>\n",
              "      <td>recommender_system_test</td>\n",
              "      <td>2020-12-07</td>\n",
              "      <td>EU</td>\n",
              "      <td>PC</td>\n",
              "      <td>A</td>\n",
              "      <td>recommender_system_test</td>\n",
              "    </tr>\n",
              "    <tr>\n",
              "      <th>3</th>\n",
              "      <td>D1ABA3E2887B6A73</td>\n",
              "      <td>2020-12-07 14:43:27</td>\n",
              "      <td>login</td>\n",
              "      <td>1500.00</td>\n",
              "      <td>A</td>\n",
              "      <td>recommender_system_test</td>\n",
              "      <td>2020-12-07</td>\n",
              "      <td>EU</td>\n",
              "      <td>PC</td>\n",
              "      <td>A</td>\n",
              "      <td>recommender_system_test</td>\n",
              "    </tr>\n",
              "    <tr>\n",
              "      <th>4</th>\n",
              "      <td>A7A3664BD6242119</td>\n",
              "      <td>2020-12-20 15:46:06</td>\n",
              "      <td>product_page</td>\n",
              "      <td>1500.00</td>\n",
              "      <td>A</td>\n",
              "      <td>recommender_system_test</td>\n",
              "      <td>2020-12-20</td>\n",
              "      <td>EU</td>\n",
              "      <td>iPhone</td>\n",
              "      <td>A</td>\n",
              "      <td>recommender_system_test</td>\n",
              "    </tr>\n",
              "  </tbody>\n",
              "</table>\n",
              "</div>"
            ],
            "text/plain": [
              "            user_id            event_dt    event_name  details group_events  \\\n",
              "0  D1ABA3E2887B6A73 2020-12-07 14:43:27      purchase    99.99            A   \n",
              "1  D1ABA3E2887B6A73 2020-12-07 14:43:29  product_cart  1500.00            A   \n",
              "2  D1ABA3E2887B6A73 2020-12-07 14:43:27  product_page  1500.00            A   \n",
              "3  D1ABA3E2887B6A73 2020-12-07 14:43:27         login  1500.00            A   \n",
              "4  A7A3664BD6242119 2020-12-20 15:46:06  product_page  1500.00            A   \n",
              "\n",
              "            ab_test_events first_date region  device group_new_users  \\\n",
              "0  recommender_system_test 2020-12-07     EU      PC               A   \n",
              "1  recommender_system_test 2020-12-07     EU      PC               A   \n",
              "2  recommender_system_test 2020-12-07     EU      PC               A   \n",
              "3  recommender_system_test 2020-12-07     EU      PC               A   \n",
              "4  recommender_system_test 2020-12-20     EU  iPhone               A   \n",
              "\n",
              "         ab_test_new_users  \n",
              "0  recommender_system_test  \n",
              "1  recommender_system_test  \n",
              "2  recommender_system_test  \n",
              "3  recommender_system_test  \n",
              "4  recommender_system_test  "
            ]
          },
          "metadata": {},
          "output_type": "display_data"
        },
        {
          "data": {
            "text/html": [
              "<div>\n",
              "<style scoped>\n",
              "    .dataframe tbody tr th:only-of-type {\n",
              "        vertical-align: middle;\n",
              "    }\n",
              "\n",
              "    .dataframe tbody tr th {\n",
              "        vertical-align: top;\n",
              "    }\n",
              "\n",
              "    .dataframe thead th {\n",
              "        text-align: right;\n",
              "    }\n",
              "</style>\n",
              "<table border=\"1\" class=\"dataframe\">\n",
              "  <thead>\n",
              "    <tr style=\"text-align: right;\">\n",
              "      <th></th>\n",
              "      <th>user_id</th>\n",
              "      <th>event_dt</th>\n",
              "      <th>event_name</th>\n",
              "      <th>details</th>\n",
              "      <th>group_events</th>\n",
              "      <th>ab_test_events</th>\n",
              "      <th>first_date</th>\n",
              "      <th>region</th>\n",
              "      <th>device</th>\n",
              "      <th>group_new_users</th>\n",
              "      <th>ab_test_new_users</th>\n",
              "    </tr>\n",
              "  </thead>\n",
              "  <tbody>\n",
              "    <tr>\n",
              "      <th>0</th>\n",
              "      <td>CD74C3D22FFC09C2</td>\n",
              "      <td>2020-12-21 14:10:54</td>\n",
              "      <td>product_page</td>\n",
              "      <td>1500.0</td>\n",
              "      <td>B</td>\n",
              "      <td>recommender_system_test</td>\n",
              "      <td>2020-12-21</td>\n",
              "      <td>EU</td>\n",
              "      <td>Android</td>\n",
              "      <td>B</td>\n",
              "      <td>recommender_system_test</td>\n",
              "    </tr>\n",
              "    <tr>\n",
              "      <th>1</th>\n",
              "      <td>CD74C3D22FFC09C2</td>\n",
              "      <td>2020-12-22 11:22:05</td>\n",
              "      <td>product_page</td>\n",
              "      <td>1500.0</td>\n",
              "      <td>B</td>\n",
              "      <td>recommender_system_test</td>\n",
              "      <td>2020-12-21</td>\n",
              "      <td>EU</td>\n",
              "      <td>Android</td>\n",
              "      <td>B</td>\n",
              "      <td>recommender_system_test</td>\n",
              "    </tr>\n",
              "    <tr>\n",
              "      <th>2</th>\n",
              "      <td>CD74C3D22FFC09C2</td>\n",
              "      <td>2020-12-28 18:43:12</td>\n",
              "      <td>product_page</td>\n",
              "      <td>1500.0</td>\n",
              "      <td>B</td>\n",
              "      <td>recommender_system_test</td>\n",
              "      <td>2020-12-21</td>\n",
              "      <td>EU</td>\n",
              "      <td>Android</td>\n",
              "      <td>B</td>\n",
              "      <td>recommender_system_test</td>\n",
              "    </tr>\n",
              "    <tr>\n",
              "      <th>3</th>\n",
              "      <td>CD74C3D22FFC09C2</td>\n",
              "      <td>2020-12-21 14:10:51</td>\n",
              "      <td>login</td>\n",
              "      <td>1500.0</td>\n",
              "      <td>B</td>\n",
              "      <td>recommender_system_test</td>\n",
              "      <td>2020-12-21</td>\n",
              "      <td>EU</td>\n",
              "      <td>Android</td>\n",
              "      <td>B</td>\n",
              "      <td>recommender_system_test</td>\n",
              "    </tr>\n",
              "    <tr>\n",
              "      <th>4</th>\n",
              "      <td>CD74C3D22FFC09C2</td>\n",
              "      <td>2020-12-22 11:22:03</td>\n",
              "      <td>login</td>\n",
              "      <td>1500.0</td>\n",
              "      <td>B</td>\n",
              "      <td>recommender_system_test</td>\n",
              "      <td>2020-12-21</td>\n",
              "      <td>EU</td>\n",
              "      <td>Android</td>\n",
              "      <td>B</td>\n",
              "      <td>recommender_system_test</td>\n",
              "    </tr>\n",
              "  </tbody>\n",
              "</table>\n",
              "</div>"
            ],
            "text/plain": [
              "            user_id            event_dt    event_name  details group_events  \\\n",
              "0  CD74C3D22FFC09C2 2020-12-21 14:10:54  product_page   1500.0            B   \n",
              "1  CD74C3D22FFC09C2 2020-12-22 11:22:05  product_page   1500.0            B   \n",
              "2  CD74C3D22FFC09C2 2020-12-28 18:43:12  product_page   1500.0            B   \n",
              "3  CD74C3D22FFC09C2 2020-12-21 14:10:51         login   1500.0            B   \n",
              "4  CD74C3D22FFC09C2 2020-12-22 11:22:03         login   1500.0            B   \n",
              "\n",
              "            ab_test_events first_date region   device group_new_users  \\\n",
              "0  recommender_system_test 2020-12-21     EU  Android               B   \n",
              "1  recommender_system_test 2020-12-21     EU  Android               B   \n",
              "2  recommender_system_test 2020-12-21     EU  Android               B   \n",
              "3  recommender_system_test 2020-12-21     EU  Android               B   \n",
              "4  recommender_system_test 2020-12-21     EU  Android               B   \n",
              "\n",
              "         ab_test_new_users  \n",
              "0  recommender_system_test  \n",
              "1  recommender_system_test  \n",
              "2  recommender_system_test  \n",
              "3  recommender_system_test  \n",
              "4  recommender_system_test  "
            ]
          },
          "metadata": {},
          "output_type": "display_data"
        }
      ],
      "source": [
        "# Obtención de eventos para usuarios de grupo A y B\n",
        "events_A = events.merge(data_A, how='right', on='user_id',suffixes=('_events', '_a'))\n",
        "new_users_eu_A = new_users_eu.merge(data_A, how='right', on='user_id',suffixes=('_new_users', '_a'))\n",
        "df_A= events_A.merge(new_users_eu_A, how='right', on='user_id',suffixes=('_events', '_new_users'))\n",
        "#display(events_A.info()) #18627 eventos\n",
        "#display(new_users_eu_A.info()) #2727 usuarios\n",
        "display(df_A.head())\n",
        "#display(df_A.info()) #18627\n",
        "\n",
        "events_B = events.merge(data_B, how='right', on='user_id',suffixes=('_events', '_b'))\n",
        "new_users_eu_B = new_users_eu.merge(data_B, how='right', on='user_id',suffixes=('_new_users', '_b'))\n",
        "df_B= events_B.merge(new_users_eu_B, how='right', on='user_id',suffixes=('_events', '_new_users'))\n",
        "#display(events_B.info()) #5282 eventos\n",
        "#display(new_users_eu_B.info()) #928 usuarios\n",
        "display(df_B.head())\n",
        "#display(df_B.info()) #5282"
      ]
    },
    {
      "cell_type": "markdown",
      "metadata": {
        "id": "bZOVc19VW9FH"
      },
      "source": [
        "### Embudos de conversión\n",
        "\n",
        "Observamos algunos cambios para el embudo de conversión del grupo A y del grupo B:\n",
        "\n",
        "| Etapa | Cantidad A | Porcentaje A| Cantidad B | Porcentaje B|\n",
        "|-----|-----|----|---|--|\n",
        "|Login | 2747 | 100 | 927 | 100 |\n",
        "|Product Page | 1012 | 36.84 | 284| 30.64|\n",
        "|Product Cart | 54 | 5.33 | 23 | 8.09|\n",
        "| Purchase | 0 | 0 | 1 | 4.34 |\n",
        "\n",
        "Notas:\n",
        "* Cantidad: se refiere a las cantidad de usurios del respectivo grupo.\n",
        "* Porcentaje : es el porcentaje respecto a la etapa anterior del mismo grupo."
      ]
    },
    {
      "cell_type": "code",
      "execution_count": null,
      "metadata": {
        "id": "OoYCicWlW9FH"
      },
      "outputs": [],
      "source": [
        "def funnel(df, group):\n",
        "\n",
        "    # Primer evento de cada clase por usuario\n",
        "    funnel = df.pivot_table(\n",
        "        index='user_id',\n",
        "        columns='event_name',\n",
        "        values='event_dt',\n",
        "        aggfunc='min')\n",
        "\n",
        "    #Solo los eventos que sucedieron en orden\n",
        "    step_1 = ~funnel['login'].isna()\n",
        "    step_2 = step_1 & (funnel['product_page'] > funnel['login'])\n",
        "    step_3 = step_2 & (funnel['product_cart'] > funnel['product_page'])\n",
        "    step_4 = step_3 & (funnel['purchase'] > funnel['product_cart'])\n",
        "\n",
        "    #Cantidad de cada uno de los eventos\n",
        "    n_login = funnel[step_1].shape[0]\n",
        "    n_product_page= funnel[step_2].shape[0]\n",
        "    n_product_cart = funnel[step_3].shape[0]\n",
        "    n_purchase = funnel[step_4].shape[0]\n",
        "\n",
        "\n",
        "    #Graficar porcentajes\n",
        "    funnel_plot= {\n",
        "        'Stage': ['Login', 'Product Page', 'Product Cart', 'Purchase'],\n",
        "        'Quantity': [n_login,\n",
        "                     n_product_page,\n",
        "                     n_product_cart,\n",
        "                     n_purchase],\n",
        "        'Proportion': [100,\n",
        "                     (n_product_page /n_login)*100,\n",
        "                     (n_product_cart/n_product_page)*100,\n",
        "                     (n_purchase/n_product_cart)*100]\n",
        "    }\n",
        "    funnel_plot_df = pd.DataFrame(funnel_plot)\n",
        "    plt.style.use(\"dark_background\")\n",
        "    sns.barplot(x='Stage', y='Proportion', data=funnel_plot_df)\n",
        "    plt.xlabel('Stage')\n",
        "    plt.ylabel('Proportion')\n",
        "    plt.title(f'Proportion by Stage {group}')\n",
        "    plt.show()\n",
        "    return(funnel_plot_df)"
      ]
    },
    {
      "cell_type": "code",
      "execution_count": null,
      "metadata": {
        "id": "_8M67-rGW9FH",
        "outputId": "61174c0c-c05a-463c-ac98-38551c722eed"
      },
      "outputs": [
        {
          "data": {
            "image/png": "[encoded data removed]",
            "text/plain": [
              "<Figure size 640x480 with 1 Axes>"
            ]
          },
          "metadata": {},
          "output_type": "display_data"
        },
        {
          "data": {
            "text/plain": [
              "'Embudo A:\\n'"
            ]
          },
          "metadata": {},
          "output_type": "display_data"
        },
        {
          "data": {
            "text/html": [
              "<div>\n",
              "<style scoped>\n",
              "    .dataframe tbody tr th:only-of-type {\n",
              "        vertical-align: middle;\n",
              "    }\n",
              "\n",
              "    .dataframe tbody tr th {\n",
              "        vertical-align: top;\n",
              "    }\n",
              "\n",
              "    .dataframe thead th {\n",
              "        text-align: right;\n",
              "    }\n",
              "</style>\n",
              "<table border=\"1\" class=\"dataframe\">\n",
              "  <thead>\n",
              "    <tr style=\"text-align: right;\">\n",
              "      <th></th>\n",
              "      <th>Stage</th>\n",
              "      <th>Quantity</th>\n",
              "      <th>Proportion</th>\n",
              "    </tr>\n",
              "  </thead>\n",
              "  <tbody>\n",
              "    <tr>\n",
              "      <th>0</th>\n",
              "      <td>Login</td>\n",
              "      <td>2747</td>\n",
              "      <td>100.000000</td>\n",
              "    </tr>\n",
              "    <tr>\n",
              "      <th>1</th>\n",
              "      <td>Product Page</td>\n",
              "      <td>1012</td>\n",
              "      <td>36.840189</td>\n",
              "    </tr>\n",
              "    <tr>\n",
              "      <th>2</th>\n",
              "      <td>Product Cart</td>\n",
              "      <td>54</td>\n",
              "      <td>5.335968</td>\n",
              "    </tr>\n",
              "    <tr>\n",
              "      <th>3</th>\n",
              "      <td>Purchase</td>\n",
              "      <td>0</td>\n",
              "      <td>0.000000</td>\n",
              "    </tr>\n",
              "  </tbody>\n",
              "</table>\n",
              "</div>"
            ],
            "text/plain": [
              "          Stage  Quantity  Proportion\n",
              "0         Login      2747  100.000000\n",
              "1  Product Page      1012   36.840189\n",
              "2  Product Cart        54    5.335968\n",
              "3      Purchase         0    0.000000"
            ]
          },
          "metadata": {},
          "output_type": "display_data"
        },
        {
          "data": {
            "image/png": "[encoded data removed]",
            "text/plain": [
              "<Figure size 640x480 with 1 Axes>"
            ]
          },
          "metadata": {},
          "output_type": "display_data"
        },
        {
          "data": {
            "text/plain": [
              "'Embudo B:\\n'"
            ]
          },
          "metadata": {},
          "output_type": "display_data"
        },
        {
          "data": {
            "text/html": [
              "<div>\n",
              "<style scoped>\n",
              "    .dataframe tbody tr th:only-of-type {\n",
              "        vertical-align: middle;\n",
              "    }\n",
              "\n",
              "    .dataframe tbody tr th {\n",
              "        vertical-align: top;\n",
              "    }\n",
              "\n",
              "    .dataframe thead th {\n",
              "        text-align: right;\n",
              "    }\n",
              "</style>\n",
              "<table border=\"1\" class=\"dataframe\">\n",
              "  <thead>\n",
              "    <tr style=\"text-align: right;\">\n",
              "      <th></th>\n",
              "      <th>Stage</th>\n",
              "      <th>Quantity</th>\n",
              "      <th>Proportion</th>\n",
              "    </tr>\n",
              "  </thead>\n",
              "  <tbody>\n",
              "    <tr>\n",
              "      <th>0</th>\n",
              "      <td>Login</td>\n",
              "      <td>927</td>\n",
              "      <td>100.000000</td>\n",
              "    </tr>\n",
              "    <tr>\n",
              "      <th>1</th>\n",
              "      <td>Product Page</td>\n",
              "      <td>284</td>\n",
              "      <td>30.636462</td>\n",
              "    </tr>\n",
              "    <tr>\n",
              "      <th>2</th>\n",
              "      <td>Product Cart</td>\n",
              "      <td>23</td>\n",
              "      <td>8.098592</td>\n",
              "    </tr>\n",
              "    <tr>\n",
              "      <th>3</th>\n",
              "      <td>Purchase</td>\n",
              "      <td>1</td>\n",
              "      <td>4.347826</td>\n",
              "    </tr>\n",
              "  </tbody>\n",
              "</table>\n",
              "</div>"
            ],
            "text/plain": [
              "          Stage  Quantity  Proportion\n",
              "0         Login       927  100.000000\n",
              "1  Product Page       284   30.636462\n",
              "2  Product Cart        23    8.098592\n",
              "3      Purchase         1    4.347826"
            ]
          },
          "metadata": {},
          "output_type": "display_data"
        }
      ],
      "source": [
        "funnel_A = funnel(df_A,'Group A')\n",
        "display(f\"Embudo A:\\n\",funnel_A)\n",
        "funnel_B = funnel(df_B,'Group B')\n",
        "display(f\"Embudo B:\\n\",funnel_B)\n",
        "\n",
        "#print(df_A[df_A['event_name']=='purchase'].count()) # 2545\n",
        "#print(df_B[df_B['event_name']=='purchase'].count()) #655"
      ]
    },
    {
      "cell_type": "markdown",
      "metadata": {
        "id": "SqP5wC0EW9FH"
      },
      "source": [
        "### ¿Cómo se distribuye el número de eventos entre los días?\n",
        "\n",
        "Se obtuvieron las gráficas de comportamiento de cada una de las etapas (la cantidad de usuarios que realizo esa acción) a lo largo de los días  y también se obtuvo este mismo parámetro acumulativo para evitar el 'peeking' problem.\n",
        "\n",
        "Observamos como entre los días 13 y el 25 de diciembre del 2025, Tanto grupo A como grupo B, tienen más entradas  dado que son las fechas de la estrategia de marketing 'Christmas&New Year Promo'\t(3-25 dic). Los primero días (del 3 al 13) va aumentando los usuarios gradualmente, probablemente por el tiempo que tarda la difusión de la promoción.\n",
        "\n",
        "La gráficas acumulativas nos permiten apreciar que para ambos grupos cada una de las acciones tienden a aumentar a lo largo del tiempo, probablemente por las fechas navideñas. Además se observa como la diferencia de usuarios que pasan de 'product_page' a 'product_cart', es mucho menor a entre los grups A y B ; lo que indica una perdida de usurios en ese paso mucho mayor  para el grupo A que para el B.\n"
      ]
    },
    {
      "cell_type": "code",
      "execution_count": null,
      "metadata": {
        "id": "U6EugZVsW9FI",
        "outputId": "769517b6-ec55-46d7-9674-f0e207f99662"
      },
      "outputs": [
        {
          "data": {
            "image/png": "[encoded data removed]",
            "text/plain": [
              "<Figure size 640x480 with 1 Axes>"
            ]
          },
          "metadata": {},
          "output_type": "display_data"
        },
        {
          "data": {
            "image/png": "[encoded data removed]",
            "text/plain": [
              "<Figure size 640x480 with 1 Axes>"
            ]
          },
          "metadata": {},
          "output_type": "display_data"
        },
        {
          "data": {
            "image/png": "[encoded data removed]",
            "text/plain": [
              "<Figure size 640x480 with 1 Axes>"
            ]
          },
          "metadata": {},
          "output_type": "display_data"
        },
        {
          "data": {
            "image/png": "[encoded data removed]",
            "text/plain": [
              "<Figure size 640x480 with 1 Axes>"
            ]
          },
          "metadata": {},
          "output_type": "display_data"
        },
        {
          "data": {
            "image/png": "[encoded data removed]",
            "text/plain": [
              "<Figure size 640x480 with 1 Axes>"
            ]
          },
          "metadata": {},
          "output_type": "display_data"
        },
        {
          "data": {
            "image/png": "[encoded data removed]",
            "text/plain": [
              "<Figure size 640x480 with 1 Axes>"
            ]
          },
          "metadata": {},
          "output_type": "display_data"
        },
        {
          "data": {
            "image/png": "[encoded data removed]",
            "text/plain": [
              "<Figure size 640x480 with 1 Axes>"
            ]
          },
          "metadata": {},
          "output_type": "display_data"
        },
        {
          "data": {
            "image/png": "[encoded data removed]",
            "text/plain": [
              "<Figure size 640x480 with 1 Axes>"
            ]
          },
          "metadata": {},
          "output_type": "display_data"
        }
      ],
      "source": [
        "events_df = pd.concat([events_A,events_B])\n",
        "#Solo tomar en cuenta la fecha, quitar la hora\n",
        "events_df['event_dt'] = events_df['event_dt'].dt.date\n",
        "\n",
        "def acummulative_step(df,step):\n",
        "    df_filtered = df[df['event_name']== step]\n",
        "\n",
        "    df_A= df_filtered[df_filtered['group']=='A']\n",
        "    df_B= df_filtered[df_filtered['group']=='B']\n",
        "\n",
        "    df_A_grouped = df_A.groupby('event_dt').agg({'user_id':'count'}).reset_index()\n",
        "    df_B_grouped = df_B.groupby('event_dt').agg({'user_id':'count'}).reset_index()\n",
        "\n",
        "    plt.plot(df_A_grouped ['event_dt'], df_A_grouped ['user_id'], label='A')\n",
        "    plt.plot(df_B_grouped['event_dt'], df_B_grouped['user_id'], label='B')\n",
        "    plt.xticks(rotation=90)\n",
        "    plt.legend()\n",
        "    plt.ylim((0,900))\n",
        "    plt.title(f'Etapa:{step}, CONTEO DIARIO ')\n",
        "    plt.show()\n",
        "\n",
        "    # Parametro acumulativo\n",
        "    df_date_grouped = df[['event_dt','group']].drop_duplicates()\n",
        "    df_acumm= df_date_grouped.apply(lambda x: df_filtered[np.logical_and(df_filtered ['event_dt'] <= x['event_dt'], df_filtered ['group'] == x['group'])]\n",
        "        .agg({'event_dt' : 'max', 'group' : 'max', 'user_id' : 'count'}), axis=1).sort_values(by=['event_dt','group'])\n",
        "    df_acumm_A = df_acumm[df_acumm['group']=='A']\n",
        "    df_acumm_B = df_acumm[df_acumm['group']=='B']\n",
        "    plt.plot( df_acumm_A ['event_dt'],  df_acumm_A ['user_id'], label='A')\n",
        "    plt.plot(df_acumm_B['event_dt'], df_acumm_B['user_id'], label='B')\n",
        "    plt.xticks(rotation=90)\n",
        "    plt.legend()\n",
        "    plt.ylim((0,8000))\n",
        "    plt.title(f'Etapa:{step}, ACUMULATIVA')\n",
        "    plt.show()\n",
        "    return()\n",
        "\n",
        "\n",
        "\n",
        "steps = ['login','product_page', 'product_cart','purchase']\n",
        "for step in steps:\n",
        "    acummulative_step(events_df,step)"
      ]
    },
    {
      "cell_type": "markdown",
      "metadata": {
        "id": "rxzFAXUhW9FI"
      },
      "source": [
        "### ¿Hay alguna peculiaridad en los datos que hay que tener en cuenta antes de iniciar la prueba A/B?\n",
        "\n",
        "Las prueba sobre \"probar cambios relacionados con la introducción de un sistema de recomendaciones mejorado\" se realizo durante la temporada de la \"Promoción Navideña\" de la tienda. Lo cual puede afectar el confiar si lo que realmente funcionó fue la prueba lanzada o las temporadas navideñas.\n",
        "\n"
      ]
    },
    {
      "cell_type": "markdown",
      "metadata": {
        "id": "KvUqrZGZW9FI"
      },
      "source": [
        "## PRUEBA A/B\n"
      ]
    },
    {
      "cell_type": "code",
      "execution_count": null,
      "metadata": {
        "id": "n_QNWkRgW9FI",
        "outputId": "497da2d7-73bc-42ca-d0be-ae9a9d5e19ed"
      },
      "outputs": [
        {
          "data": {
            "text/html": [
              "<div>\n",
              "<style scoped>\n",
              "    .dataframe tbody tr th:only-of-type {\n",
              "        vertical-align: middle;\n",
              "    }\n",
              "\n",
              "    .dataframe tbody tr th {\n",
              "        vertical-align: top;\n",
              "    }\n",
              "\n",
              "    .dataframe thead th {\n",
              "        text-align: right;\n",
              "    }\n",
              "</style>\n",
              "<table border=\"1\" class=\"dataframe\">\n",
              "  <thead>\n",
              "    <tr style=\"text-align: right;\">\n",
              "      <th>event_name</th>\n",
              "      <th>login</th>\n",
              "      <th>product_cart</th>\n",
              "      <th>product_page</th>\n",
              "      <th>purchase</th>\n",
              "    </tr>\n",
              "    <tr>\n",
              "      <th>event_dt</th>\n",
              "      <th></th>\n",
              "      <th></th>\n",
              "      <th></th>\n",
              "      <th></th>\n",
              "    </tr>\n",
              "  </thead>\n",
              "  <tbody>\n",
              "    <tr>\n",
              "      <th>2020-12-07</th>\n",
              "      <td>154</td>\n",
              "      <td>35</td>\n",
              "      <td>96</td>\n",
              "      <td>46</td>\n",
              "    </tr>\n",
              "    <tr>\n",
              "      <th>2020-12-08</th>\n",
              "      <td>159</td>\n",
              "      <td>37</td>\n",
              "      <td>108</td>\n",
              "      <td>37</td>\n",
              "    </tr>\n",
              "    <tr>\n",
              "      <th>2020-12-09</th>\n",
              "      <td>178</td>\n",
              "      <td>50</td>\n",
              "      <td>106</td>\n",
              "      <td>51</td>\n",
              "    </tr>\n",
              "    <tr>\n",
              "      <th>2020-12-10</th>\n",
              "      <td>165</td>\n",
              "      <td>45</td>\n",
              "      <td>94</td>\n",
              "      <td>46</td>\n",
              "    </tr>\n",
              "    <tr>\n",
              "      <th>2020-12-11</th>\n",
              "      <td>185</td>\n",
              "      <td>45</td>\n",
              "      <td>102</td>\n",
              "      <td>42</td>\n",
              "    </tr>\n",
              "  </tbody>\n",
              "</table>\n",
              "</div>"
            ],
            "text/plain": [
              "event_name  login  product_cart  product_page  purchase\n",
              "event_dt                                               \n",
              "2020-12-07    154            35            96        46\n",
              "2020-12-08    159            37           108        37\n",
              "2020-12-09    178            50           106        51\n",
              "2020-12-10    165            45            94        46\n",
              "2020-12-11    185            45           102        42"
            ]
          },
          "metadata": {},
          "output_type": "display_data"
        },
        {
          "data": {
            "text/html": [
              "<div>\n",
              "<style scoped>\n",
              "    .dataframe tbody tr th:only-of-type {\n",
              "        vertical-align: middle;\n",
              "    }\n",
              "\n",
              "    .dataframe tbody tr th {\n",
              "        vertical-align: top;\n",
              "    }\n",
              "\n",
              "    .dataframe thead th {\n",
              "        text-align: right;\n",
              "    }\n",
              "</style>\n",
              "<table border=\"1\" class=\"dataframe\">\n",
              "  <thead>\n",
              "    <tr style=\"text-align: right;\">\n",
              "      <th>event_name</th>\n",
              "      <th>login</th>\n",
              "      <th>product_cart</th>\n",
              "      <th>product_page</th>\n",
              "      <th>purchase</th>\n",
              "    </tr>\n",
              "    <tr>\n",
              "      <th>event_dt</th>\n",
              "      <th></th>\n",
              "      <th></th>\n",
              "      <th></th>\n",
              "      <th></th>\n",
              "    </tr>\n",
              "  </thead>\n",
              "  <tbody>\n",
              "    <tr>\n",
              "      <th>2020-12-07</th>\n",
              "      <td>165.0</td>\n",
              "      <td>46.0</td>\n",
              "      <td>108.0</td>\n",
              "      <td>59.0</td>\n",
              "    </tr>\n",
              "    <tr>\n",
              "      <th>2020-12-08</th>\n",
              "      <td>119.0</td>\n",
              "      <td>34.0</td>\n",
              "      <td>64.0</td>\n",
              "      <td>35.0</td>\n",
              "    </tr>\n",
              "    <tr>\n",
              "      <th>2020-12-09</th>\n",
              "      <td>172.0</td>\n",
              "      <td>43.0</td>\n",
              "      <td>106.0</td>\n",
              "      <td>40.0</td>\n",
              "    </tr>\n",
              "    <tr>\n",
              "      <th>2020-12-10</th>\n",
              "      <td>131.0</td>\n",
              "      <td>34.0</td>\n",
              "      <td>72.0</td>\n",
              "      <td>26.0</td>\n",
              "    </tr>\n",
              "    <tr>\n",
              "      <th>2020-12-11</th>\n",
              "      <td>89.0</td>\n",
              "      <td>17.0</td>\n",
              "      <td>46.0</td>\n",
              "      <td>16.0</td>\n",
              "    </tr>\n",
              "  </tbody>\n",
              "</table>\n",
              "</div>"
            ],
            "text/plain": [
              "event_name  login  product_cart  product_page  purchase\n",
              "event_dt                                               \n",
              "2020-12-07  165.0          46.0         108.0      59.0\n",
              "2020-12-08  119.0          34.0          64.0      35.0\n",
              "2020-12-09  172.0          43.0         106.0      40.0\n",
              "2020-12-10  131.0          34.0          72.0      26.0\n",
              "2020-12-11   89.0          17.0          46.0      16.0"
            ]
          },
          "metadata": {},
          "output_type": "display_data"
        }
      ],
      "source": [
        "#Tablas pivote con fecha, tipo de evento y conteo de usuarios\n",
        "\n",
        "events_A['event_dt'] = events_A['event_dt'].dt.date\n",
        "events_B['event_dt'] = events_B['event_dt'].dt.date\n",
        "\n",
        "events_A_agg = events_A.groupby(['event_dt','event_name']).agg({'user_id':'count'}).reset_index()\n",
        "events_A_pivot = events_A_agg.pivot(index='event_dt',columns='event_name',values='user_id')\n",
        "events_B_agg = events_B.groupby(['event_dt','event_name']).agg({'user_id':'count'}).reset_index()\n",
        "events_B_pivot = events_B_agg.pivot(index='event_dt',columns='event_name',values='user_id')\n",
        "\n",
        "display(events_A_pivot.head())\n",
        "display(events_B_pivot.head())"
      ]
    },
    {
      "cell_type": "markdown",
      "metadata": {
        "id": "3-QWRMMLW9FI"
      },
      "source": [
        "###  Utiliza una prueba z para comprobar la diferencia estadística entre las proporciones.\n",
        "\n",
        "\n",
        "H0: En cada etapa del embudo product_page → product_cart → purchase, habrá un aumento igual o mayor a un 10% de conversión.\n",
        "\n",
        "H1: En cada etapa del embudo product_page → product_cart → purchase, habrá aumento menor al 10% de conversión.\n",
        "\n",
        "Es una prueba de una cola."
      ]
    },
    {
      "cell_type": "code",
      "execution_count": null,
      "metadata": {
        "id": "a4Y5ZQjoW9FI",
        "outputId": "9e6862ba-39eb-41f5-9cc3-387af79eeeb8"
      },
      "outputs": [
        {
          "name": "stdout",
          "output_type": "stream",
          "text": [
            "Prueba con tasa de conversión entre product_page y product_cart\n",
            "p_value=0.9839479997998055\n",
            "No rechazamos la hipotesis nula: .\n",
            "Prueba con tasa de conversión entre product_cart y purchase\n",
            "p_value=nan\n",
            "No rechazamos la hipotesis nula: .\n"
          ]
        },
        {
          "data": {
            "text/plain": [
              "()"
            ]
          },
          "execution_count": 58,
          "metadata": {},
          "output_type": "execute_result"
        }
      ],
      "source": [
        "from statsmodels.stats.weightstats import ztest\n",
        "\n",
        "def prueba_Z_una_cola(df_A, df_B, step1, step2):\n",
        "    \"\"\"\n",
        "    1. Funcion toma los df de A y B ,\n",
        "    2. calcula la tasa de conversión entre 'step1' y 'step2'\n",
        "    3. Calcula el valo con el cual vamos a comparar :\n",
        "    el 110% del valor medio de la tasa de conversión del grupo a\n",
        "    4. Se hace la prueba Z test, prueba estadistica entre\n",
        "    dataset (tasa de conversión grupo B) y valor (el calculado en el punto 3)\n",
        "    5. Se hace una prueba de 1 cola.\n",
        "    \"\"\"\n",
        "    alpha = 0.05\n",
        "\n",
        "    df_A['tasa_conversion']= df_A[step2] /df_A[step1]\n",
        "    df_B['tasa_conversion']= df_B[step2] /df_B[step1]\n",
        "\n",
        "    value = (df_A['tasa_conversion'].mean())*1.1\n",
        "\n",
        "    # Prueba Z compara datos grupo B con un valor\n",
        "    # se utiliza el 110% del valor medio de grupo A ,\n",
        "    # ya que debemos comprobar si aumento un 10% la tasa de conversión\n",
        "    z, p_value  = ztest( df_B['tasa_conversion'], value= value)\n",
        "\n",
        "    print(f\"Prueba con tasa de conversión entre {step1} y {step2}\")\n",
        "    print(f'p_value={p_value}')\n",
        "    if (p_value / 2 < alpha) and (df_B['tasa_conversion'].mean() > ((df_A['tasa_conversion'].mean())*1.1)):\n",
        "        print('Rechazamos la hipotesis nula:.')\n",
        "    else:\n",
        "        print('No rechazamos la hipotesis nula: .')\n",
        "\n",
        "    return()\n",
        "\n",
        "prueba_Z_una_cola(events_A_pivot, events_B_pivot,'product_page','product_cart')\n",
        "prueba_Z_una_cola(events_A_pivot, events_B_pivot,'product_cart','purchase')"
      ]
    },
    {
      "cell_type": "markdown",
      "metadata": {
        "id": "n6fZbHVbW9FJ"
      },
      "source": [
        "### CONCLUSIONES\n",
        "\n",
        "De acuerdo a lo que se pudo revisar en el Análisis exploratorio de los datos y los resultados estadísticos de la prueba A/B se puede concluir:\n",
        "* Los resultados de la prueba pudieron verse afectados por la alsa en las ventas de la temporada de Navidad.\n",
        "* El número de participantes previsto en la prueba era de 6000, mientras que solo se registraron 3675.\n",
        "* No se obtuvo el resultado deseado, de un aumento del 10% en cada etapa del embudo : `product_page` → `product_cart` → `purchase`\n",
        "* Sin embargo, sí hay una aumento en las proporciones de conversión en cada etapa del grupo B con respecto al A:\n",
        "  * `product_page` → `product_cart`, grupo A cae 31.1% mientras que B 22.55%\n",
        "  * `product_cart` → `purchase`, grupo A cae 5.33% mientras B 3.75%\n",
        "\n",
        "Aunque para validar esta última observación se debe tomar en cuenta que en grupo A hay 2545 registradas , y en B hay únicamente 655. Sin embargo al hacer los embudos, tomando en cuenta el orden secuencial de los pasos, para A quedan 0 y para B 1."
      ]
    },
    {
      "cell_type": "code",
      "execution_count": null,
      "metadata": {
        "id": "9XjFQg8GW9FK"
      },
      "outputs": [],
      "source": []
    }
  ],
  "metadata": {
    "kernelspec": {
      "display_name": "ambiente_general",
      "language": "python",
      "name": "python3"
    },
    "language_info": {
      "codemirror_mode": {
        "name": "ipython",
        "version": 3
      },
      "file_extension": ".py",
      "mimetype": "text/x-python",
      "name": "python",
      "nbconvert_exporter": "python",
      "pygments_lexer": "ipython3",
      "version": "3.13.3"
    },
    "colab": {
      "provenance": [],
      "include_colab_link": true
    }
  },
  "nbformat": 4,
  "nbformat_minor": 0
}